{
 "cells": [
  {
   "cell_type": "code",
   "execution_count": 2,
   "metadata": {},
   "outputs": [],
   "source": [
    "from datetime import datetime\n",
    "import numpy as np\n",
    "import pandas as pd\n",
    "from collections import Counter\n",
    "import re"
   ]
  },
  {
   "cell_type": "code",
   "execution_count": 13,
   "metadata": {},
   "outputs": [
    {
     "data": {
      "text/plain": [
       "(10000, 42)"
      ]
     },
     "execution_count": 13,
     "metadata": {},
     "output_type": "execute_result"
    }
   ],
   "source": [
    "first_df = pd.read_json('../data/raw/0 - Scraped Games DF.json')\n",
    "\n",
    "first_df.shape"
   ]
  },
  {
   "cell_type": "code",
   "execution_count": 14,
   "metadata": {},
   "outputs": [],
   "source": [
    "first_df.to_csv('../data/raw/Scraped for Postgres.csv')"
   ]
  },
  {
   "cell_type": "code",
   "execution_count": 15,
   "metadata": {},
   "outputs": [
    {
     "data": {
      "text/plain": [
       "Index(['app_id', 'title', 'release_date', 'positive_review_percent',\n",
       "       'number_of_reviews', 'price', 'game_page_link', 'tags', 'date_scraped',\n",
       "       'developer', 'publisher', 'description', 'interface_languages',\n",
       "       'full_audio_languages', 'subtitles_languages', 'english', 'schinese',\n",
       "       'tchinese', 'japanese', 'koreana', 'thai', 'bulgarian', 'czech',\n",
       "       'danish', 'german', 'spanish', 'latam', 'greek', 'french', 'italian',\n",
       "       'indonesian', 'hungarian', 'dutch', 'norwegian', 'polish', 'brazilian',\n",
       "       'romanian', 'russian', 'finnish', 'swedish', 'turkish', 'vietnamese'],\n",
       "      dtype='object')"
      ]
     },
     "execution_count": 15,
     "metadata": {},
     "output_type": "execute_result"
    }
   ],
   "source": [
    "first_df.columns"
   ]
  },
  {
   "cell_type": "code",
   "execution_count": 85,
   "metadata": {},
   "outputs": [
    {
     "data": {
      "text/plain": [
       "KOEI TECMO GAMES CO., LTD.    53\n",
       "Square Enix                   36\n",
       "CAPCOM Co., Ltd.              30\n",
       "HeR Interactive               29\n",
       "Kairosoft Co.,Ltd             28\n",
       "Milestone S.r.l.              22\n",
       "Valve                         21\n",
       "Ubisoft Montreal              20\n",
       "Humongous Entertainment       19\n",
       "SEGA                          16\n",
       "LucasArts                     16\n",
       "Nippon Ichi Software, Inc.    16\n",
       "Rebellion                     16\n",
       "INTI CREATES CO., LTD.        16\n",
       "Jackbox Games, Inc.           15\n",
       "Chilla's Art                  15\n",
       "Ryu Ga Gotoku Studio          14\n",
       "Nihon Falcom                  14\n",
       "PopCap Games, Inc.            13\n",
       "Ubisoft                       13\n",
       "Name: developer, dtype: int64"
      ]
     },
     "execution_count": 85,
     "metadata": {},
     "output_type": "execute_result"
    }
   ],
   "source": [
    "series = first_df['developer'].value_counts()\n",
    "series[0:20]"
   ]
  },
  {
   "cell_type": "code",
   "execution_count": 98,
   "metadata": {},
   "outputs": [
    {
     "data": {
      "text/plain": [
       "2794    liica inc.\n",
       "5883    liica inc.\n",
       "Name: developer, dtype: object"
      ]
     },
     "execution_count": 98,
     "metadata": {},
     "output_type": "execute_result"
    }
   ],
   "source": [
    "pattern = r'liica *'\n",
    "similar_developers = first_df[first_df['developer'].str.contains(pattern, regex=True)]\n",
    "similar_developers['developer']"
   ]
  },
  {
   "cell_type": "code",
   "execution_count": 79,
   "metadata": {},
   "outputs": [],
   "source": [
    "from collections import Counter"
   ]
  },
  {
   "cell_type": "code",
   "execution_count": 82,
   "metadata": {},
   "outputs": [
    {
     "data": {
      "text/plain": [
       "Counter({str: 7246, list: 6})"
      ]
     },
     "execution_count": 82,
     "metadata": {},
     "output_type": "execute_result"
    }
   ],
   "source": [
    "types = []\n",
    "\n",
    "for index, row in first_df.iterrows() :\n",
    "    types.append(type(row['developer']))\n",
    "\n",
    "values = Counter(types)\n",
    "values"
   ]
  },
  {
   "cell_type": "code",
   "execution_count": 122,
   "metadata": {},
   "outputs": [],
   "source": [
    "def clean(entry) :\n",
    "    disallowed = ['inc', 'Inc', 'inc.', 'Inc.']\n",
    "    cleaned_items = []\n",
    "    if type(entry) == str :\n",
    "        entry = re.split(r'[,&]', entry)\n",
    "    elif entry is None :\n",
    "        entry = []\n",
    "    for item in entry :\n",
    "        cleaned_item = item.strip(' ')\n",
    "        if cleaned_item not in disallowed :\n",
    "            cleaned_items.append(cleaned_item)\n",
    "    print(str(cleaned_items))\n",
    "    return entry"
   ]
  },
  {
   "cell_type": "code",
   "execution_count": 117,
   "metadata": {},
   "outputs": [
    {
     "data": {
      "text/plain": [
       "['EA Canada ', ' EA Romania']"
      ]
     },
     "execution_count": 117,
     "metadata": {},
     "output_type": "execute_result"
    }
   ],
   "source": [
    "re.split(r\"[,&]\", first_df.loc[7, 'developer'])"
   ]
  },
  {
   "cell_type": "code",
   "execution_count": 123,
   "metadata": {},
   "outputs": [
    {
     "ename": "AttributeError",
     "evalue": "'list' object has no attribute 'loc'",
     "output_type": "error",
     "traceback": [
      "\u001b[1;31m---------------------------------------------------------------------------\u001b[0m",
      "\u001b[1;31mAttributeError\u001b[0m                            Traceback (most recent call last)",
      "\u001b[1;32mc:\\Users\\Josh\\Documents\\Springboard\\Springboard\\Game Loc Capstone\\Game Loc Capstone\\notebooks\\tesssst.ipynb Cell 9\u001b[0m line \u001b[0;36m2\n\u001b[0;32m      <a href='vscode-notebook-cell:/c%3A/Users/Josh/Documents/Springboard/Springboard/Game%20Loc%20Capstone/Game%20Loc%20Capstone/notebooks/tesssst.ipynb#X41sZmlsZQ%3D%3D?line=0'>1</a>\u001b[0m \u001b[39mfor\u001b[39;00m index, row \u001b[39min\u001b[39;00m first_df\u001b[39m.\u001b[39miterrows() :\n\u001b[1;32m----> <a href='vscode-notebook-cell:/c%3A/Users/Josh/Documents/Springboard/Springboard/Game%20Loc%20Capstone/Game%20Loc%20Capstone/notebooks/tesssst.ipynb#X41sZmlsZQ%3D%3D?line=1'>2</a>\u001b[0m     fixed_list \u001b[39m=\u001b[39m clean(row[\u001b[39m'\u001b[39;49m\u001b[39mdeveloper\u001b[39;49m\u001b[39m'\u001b[39;49m])\n\u001b[0;32m      <a href='vscode-notebook-cell:/c%3A/Users/Josh/Documents/Springboard/Springboard/Game%20Loc%20Capstone/Game%20Loc%20Capstone/notebooks/tesssst.ipynb#X41sZmlsZQ%3D%3D?line=2'>3</a>\u001b[0m     first_df\u001b[39m.\u001b[39mloc[index, \u001b[39m'\u001b[39m\u001b[39mdeveloper\u001b[39m\u001b[39m'\u001b[39m] \u001b[39m=\u001b[39m fixed_list\n",
      "\u001b[1;32mc:\\Users\\Josh\\Documents\\Springboard\\Springboard\\Game Loc Capstone\\Game Loc Capstone\\notebooks\\tesssst.ipynb Cell 9\u001b[0m line \u001b[0;36m8\n\u001b[0;32m      <a href='vscode-notebook-cell:/c%3A/Users/Josh/Documents/Springboard/Springboard/Game%20Loc%20Capstone/Game%20Loc%20Capstone/notebooks/tesssst.ipynb#X41sZmlsZQ%3D%3D?line=5'>6</a>\u001b[0m     entry \u001b[39m=\u001b[39m []\n\u001b[0;32m      <a href='vscode-notebook-cell:/c%3A/Users/Josh/Documents/Springboard/Springboard/Game%20Loc%20Capstone/Game%20Loc%20Capstone/notebooks/tesssst.ipynb#X41sZmlsZQ%3D%3D?line=6'>7</a>\u001b[0m \u001b[39mfor\u001b[39;00m item \u001b[39min\u001b[39;00m entry :\n\u001b[1;32m----> <a href='vscode-notebook-cell:/c%3A/Users/Josh/Documents/Springboard/Springboard/Game%20Loc%20Capstone/Game%20Loc%20Capstone/notebooks/tesssst.ipynb#X41sZmlsZQ%3D%3D?line=7'>8</a>\u001b[0m     entry\u001b[39m.\u001b[39;49mloc[item] \u001b[39m=\u001b[39m item\u001b[39m.\u001b[39mstrip(\u001b[39m'\u001b[39m\u001b[39m \u001b[39m\u001b[39m'\u001b[39m)\n\u001b[0;32m      <a href='vscode-notebook-cell:/c%3A/Users/Josh/Documents/Springboard/Springboard/Game%20Loc%20Capstone/Game%20Loc%20Capstone/notebooks/tesssst.ipynb#X41sZmlsZQ%3D%3D?line=8'>9</a>\u001b[0m     \u001b[39mif\u001b[39;00m item \u001b[39min\u001b[39;00m disallowed :\n\u001b[0;32m     <a href='vscode-notebook-cell:/c%3A/Users/Josh/Documents/Springboard/Springboard/Game%20Loc%20Capstone/Game%20Loc%20Capstone/notebooks/tesssst.ipynb#X41sZmlsZQ%3D%3D?line=9'>10</a>\u001b[0m         entry\u001b[39m.\u001b[39mremove(item)\n",
      "\u001b[1;31mAttributeError\u001b[0m: 'list' object has no attribute 'loc'"
     ]
    }
   ],
   "source": [
    "for index, row in first_df.iterrows() :\n",
    "    fixed_list = clean(row['developer'])\n",
    "    first_df.loc[index, 'developer'] = fixed_list"
   ]
  },
  {
   "cell_type": "code",
   "execution_count": 43,
   "metadata": {},
   "outputs": [],
   "source": [
    "developers_list = []\n",
    "\n",
    "for item in all_developers :\n",
    "    developers_list.append(item)"
   ]
  },
  {
   "cell_type": "code",
   "execution_count": 44,
   "metadata": {},
   "outputs": [],
   "source": [
    "developers_list = sorted(developers_list)"
   ]
  },
  {
   "cell_type": "code",
   "execution_count": 45,
   "metadata": {},
   "outputs": [
    {
     "name": "stdout",
     "output_type": "stream",
     "text": [
      "\t\n",
      "\n",
      "\n",
      " \n",
      "!\n",
      "\"\n",
      "&\n",
      "'\n",
      "(\n",
      ")\n",
      "+\n",
      ",\n",
      "-\n",
      ".\n",
      "/\n",
      "0\n",
      "1\n",
      "2\n",
      "3\n",
      "4\n",
      "5\n",
      "6\n",
      "7\n",
      "8\n",
      "9\n",
      ":\n",
      "?\n",
      "@\n",
      "A\n",
      "B\n",
      "C\n",
      "D\n",
      "E\n",
      "F\n",
      "G\n",
      "H\n",
      "I\n",
      "J\n",
      "K\n",
      "L\n",
      "M\n",
      "N\n",
      "O\n",
      "P\n",
      "Q\n",
      "R\n",
      "S\n",
      "T\n",
      "U\n",
      "V\n",
      "W\n",
      "X\n",
      "Y\n",
      "Z\n",
      "_\n",
      "a\n",
      "b\n",
      "c\n",
      "d\n",
      "e\n",
      "f\n",
      "g\n",
      "h\n",
      "i\n",
      "j\n",
      "k\n",
      "l\n",
      "m\n",
      "n\n",
      "o\n",
      "p\n",
      "q\n",
      "r\n",
      "s\n",
      "t\n",
      "u\n",
      "v\n",
      "w\n",
      "x\n",
      "y\n",
      "z\n",
      "{\n",
      "}\n",
      " \n",
      "®\n",
      "°\n",
      "É\n",
      "×\n",
      "Ü\n",
      "á\n",
      "ä\n",
      "å\n",
      "è\n",
      "é\n",
      "í\n",
      "ï\n",
      "ò\n",
      "ó\n",
      "ö\n",
      "ø\n",
      "ü\n",
      "ý\n",
      "č\n",
      "ě\n",
      "ğ\n",
      "Ł\n",
      "š\n",
      "А\n",
      "З\n",
      "И\n",
      "Л\n",
      "М\n",
      "О\n",
      "Ь\n",
      "Я\n",
      "‘\n",
      "’\n",
      "‪\n",
      "™\n",
      "∇\n",
      "∞\n",
      "□\n",
      "▲\n",
      "△\n",
      "○\n",
      "。\n",
      "あ\n",
      "い\n",
      "う\n",
      "お\n",
      "ぐ\n",
      "げ\n",
      "こ\n",
      "さ\n",
      "し\n",
      "じ\n",
      "ず\n",
      "だ\n",
      "ち\n",
      "と\n",
      "ど\n",
      "に\n",
      "ね\n",
      "ふ\n",
      "み\n",
      "む\n",
      "ゃ\n",
      "ょ\n",
      "ら\n",
      "り\n",
      "ろ\n",
      "ん\n",
      "イ\n",
      "エ\n",
      "ク\n",
      "サ\n",
      "ジ\n",
      "ス\n",
      "ソ\n",
      "チ\n",
      "デ\n",
      "ト\n",
      "ド\n",
      "ナ\n",
      "ハ\n",
      "バ\n",
      "パ\n",
      "フ\n",
      "マ\n",
      "ム\n",
      "ャ\n",
      "ラ\n",
      "リ\n",
      "ル\n",
      "ワ\n",
      "ン\n",
      "ー\n",
      "一\n",
      "上\n",
      "不\n",
      "东\n",
      "个\n",
      "二\n",
      "互\n",
      "亭\n",
      "人\n",
      "以\n",
      "份\n",
      "会\n",
      "作\n",
      "信\n",
      "元\n",
      "公\n",
      "养\n",
      "冲\n",
      "刊\n",
      "创\n",
      "制\n",
      "動\n",
      "化\n",
      "半\n",
      "华\n",
      "友\n",
      "可\n",
      "司\n",
      "同\n",
      "和\n",
      "商\n",
      "喜\n",
      "地\n",
      "坊\n",
      "場\n",
      "墨\n",
      "壳\n",
      "大\n",
      "如\n",
      "娛\n",
      "字\n",
      "室\n",
      "家\n",
      "尾\n",
      "属\n",
      "工\n",
      "巴\n",
      "市\n",
      "布\n",
      "帯\n",
      "常\n",
      "幕\n",
      "幽\n",
      "式\n",
      "弹\n",
      "恆\n",
      "息\n",
      "戏\n",
      "所\n",
      "技\n",
      "拾\n",
      "攻\n",
      "故\n",
      "数\n",
      "方\n",
      "无\n",
      "月\n",
      "有\n",
      "東\n",
      "松\n",
      "枕\n",
      "株\n",
      "梦\n",
      "樂\n",
      "气\n",
      "水\n",
      "永\n",
      "汉\n",
      "河\n",
      "洛\n",
      "活\n",
      "海\n",
      "港\n",
      "游\n",
      "湿\n",
      "火\n",
      "烛\n",
      "烟\n",
      "狼\n",
      "猫\n",
      "玩\n",
      "琉\n",
      "璃\n",
      "瓶\n",
      "生\n",
      "白\n",
      "瞳\n",
      "磚\n",
      "社\n",
      "祈\n",
      "祭\n",
      "秋\n",
      "科\n",
      "糖\n",
      "紫\n",
      "絲\n",
      "絵\n",
      "组\n",
      "股\n",
      "脉\n",
      "色\n",
      "艺\n",
      "艾\n",
      "花\n",
      "英\n",
      "草\n",
      "莉\n",
      "華\n",
      "蔵\n",
      "蛋\n",
      "蝶\n",
      "製\n",
      "诶\n",
      "谷\n",
      "赤\n",
      "超\n",
      "道\n",
      "醋\n",
      "野\n",
      "金\n",
      "锡\n",
      "限\n",
      "零\n",
      "香\n",
      "鬼\n",
      "鱼\n",
      "鼠\n",
      "龙\n",
      "감\n",
      "건\n",
      "공\n",
      "래\n",
      "신\n",
      "오\n",
      "인\n",
      "츠\n",
      "콘\n",
      "텐\n",
      "（\n",
      "）\n",
      "🐙\n",
      "🐢\n",
      "🐺\n",
      "👻\n",
      "💚\n"
     ]
    }
   ],
   "source": [
    "for item in developers_list :\n",
    "    print(item)"
   ]
  },
  {
   "cell_type": "code",
   "execution_count": 3,
   "metadata": {},
   "outputs": [],
   "source": [
    "all_languages = ['schinese', 'tchinese', 'japanese', 'koreana', 'thai', 'bulgarian', 'czech', 'danish', \\\n",
    "                 'german', 'english', 'spanish', 'latam', 'greek', 'french', 'italian', 'indonesian', \\\n",
    "                 'hungarian', 'dutch', 'norwegian', 'polish', 'portugese', 'brazilian', 'romanian', \\\n",
    "                 'russian', 'finnish', 'swedish', 'turkish', 'vietnamese', 'ukranian']\n",
    "\n",
    "all_counted_non_english_languages = all_languages.copy()\n",
    "all_counted_non_english_languages.remove('english')\n",
    "all_counted_non_english_languages.remove('portugese')\n",
    "all_counted_non_english_languages.remove('ukranian')"
   ]
  },
  {
   "cell_type": "code",
   "execution_count": 207,
   "metadata": {},
   "outputs": [],
   "source": [
    "index_set = set()\n",
    "\n",
    "for index, row in first_df.iterrows() :\n",
    "    for language in all_counted_non_english_languages :\n",
    "        try:\n",
    "            if 'a' not in str(row[language]) :\n",
    "                first_df.loc[index, language] = float(row[language])\n",
    "        except :\n",
    "            index_set.add(index)\n",
    "\n",
    "index_set"
   ]
  },
  {
   "cell_type": "code",
   "execution_count": 172,
   "metadata": {},
   "outputs": [
    {
     "name": "stdout",
     "output_type": "stream",
     "text": [
      "0   <class 'int'>\n",
      "0   <class 'int'>\n",
      "0   <class 'int'>\n",
      "0   <class 'int'>\n",
      "0   <class 'int'>\n",
      "0   <class 'int'>\n",
      "0   <class 'int'>\n",
      "0   <class 'int'>\n",
      "0   <class 'int'>\n",
      "0   <class 'int'>\n"
     ]
    },
    {
     "data": {
      "text/plain": [
       "0"
      ]
     },
     "execution_count": 172,
     "metadata": {},
     "output_type": "execute_result"
    }
   ],
   "source": [
    "float_ids = set()\n",
    "i = 0\n",
    "for index, row in first_df.iterrows() :\n",
    "    while i < 10:\n",
    "        if type(row['app_id']) != type(first_df.loc[4000, 'app_id']) :\n",
    "            print(index,\" \",type(row['app_id']))\n",
    "            i += 1\n",
    "            # float_ids.add(index)\n",
    "\n",
    "len(float_ids)"
   ]
  },
  {
   "cell_type": "code",
   "execution_count": 168,
   "metadata": {},
   "outputs": [
    {
     "data": {
      "text/plain": [
       "numpy.int64"
      ]
     },
     "execution_count": 168,
     "metadata": {},
     "output_type": "execute_result"
    }
   ],
   "source": [
    "type(first_df.loc[4000, 'app_id'])"
   ]
  },
  {
   "cell_type": "code",
   "execution_count": 198,
   "metadata": {},
   "outputs": [],
   "source": [
    "new_df.to_json('../data/raw/0 - Scraped Games DF.json', orient='records')"
   ]
  },
  {
   "cell_type": "code",
   "execution_count": 16,
   "metadata": {},
   "outputs": [],
   "source": [
    "langs = ['english', 'schinese',\n",
    "       'tchinese', 'japanese', 'koreana', 'thai', 'bulgarian', 'czech',\n",
    "       'danish', 'german', 'spanish', 'latam', 'greek', 'french', 'italian',\n",
    "       'indonesian', 'hungarian', 'dutch', 'norwegian', 'polish', 'brazilian',\n",
    "       'romanian', 'russian', 'finnish', 'swedish', 'turkish', 'vietnamese']"
   ]
  },
  {
   "cell_type": "code",
   "execution_count": 43,
   "metadata": {},
   "outputs": [],
   "source": [
    "touched_app_ids = set()"
   ]
  },
  {
   "cell_type": "code",
   "execution_count": 50,
   "metadata": {},
   "outputs": [],
   "source": [
    "first_df = test_df.copy()"
   ]
  },
  {
   "cell_type": "code",
   "execution_count": 45,
   "metadata": {},
   "outputs": [],
   "source": [
    "# FIXING NONE, 'FAILED' VALUES IN LANGUAGE COMMENT COUNTS\n",
    "\n",
    "test_df = first_df.copy()\n",
    "\n",
    "for index, row in test_df.iterrows() :\n",
    "    for lang in langs :\n",
    "        if row[lang] == 'Failed' :\n",
    "            test_df.loc[index, lang] = 0\n",
    "            row[lang] = 0\n",
    "            touched_app_ids.add(row['app_id'])\n",
    "        if row[lang] == None :\n",
    "            test_df.loc[index, lang] = 0\n",
    "            row[lang] = 0\n",
    "            touched_app_ids.add(row['app_id'])\n",
    "\n",
    "len(touched_app_ids)"
   ]
  },
  {
   "cell_type": "code",
   "execution_count": 48,
   "metadata": {},
   "outputs": [],
   "source": [
    "trouble_df = test_df[test_df['app_id'].isin(troubles)]"
   ]
  },
  {
   "cell_type": "code",
   "execution_count": 49,
   "metadata": {},
   "outputs": [],
   "source": [
    "trouble_df.to_csv('../data/raw/troubles.csv')"
   ]
  },
  {
   "cell_type": "code",
   "execution_count": 18,
   "metadata": {},
   "outputs": [
    {
     "name": "stdout",
     "output_type": "stream",
     "text": [
      "english bigint,\n",
      "schinese bigint,\n",
      "tchinese bigint,\n",
      "japanese bigint,\n",
      "koreana bigint,\n",
      "thai bigint,\n",
      "bulgarian bigint,\n",
      "czech bigint,\n",
      "danish bigint,\n",
      "german bigint,\n",
      "spanish bigint,\n",
      "latam bigint,\n",
      "greek bigint,\n",
      "french bigint,\n",
      "italian bigint,\n",
      "indonesian bigint,\n",
      "hungarian bigint,\n",
      "dutch bigint,\n",
      "norwegian bigint,\n",
      "polish bigint,\n",
      "brazilian bigint,\n",
      "romanian bigint,\n",
      "russian bigint,\n",
      "finnish bigint,\n",
      "swedish bigint,\n",
      "turkish bigint,\n",
      "vietnamese bigint,\n"
     ]
    }
   ],
   "source": [
    "for lang in langs :\n",
    "    print(str(lang)+' bigint,')"
   ]
  }
 ],
 "metadata": {
  "kernelspec": {
   "display_name": "base",
   "language": "python",
   "name": "python3"
  },
  "language_info": {
   "codemirror_mode": {
    "name": "ipython",
    "version": 3
   },
   "file_extension": ".py",
   "mimetype": "text/x-python",
   "name": "python",
   "nbconvert_exporter": "python",
   "pygments_lexer": "ipython3",
   "version": "3.10.9"
  },
  "orig_nbformat": 4
 },
 "nbformat": 4,
 "nbformat_minor": 2
}
